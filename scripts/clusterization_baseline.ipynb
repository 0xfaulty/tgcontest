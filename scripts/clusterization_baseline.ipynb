{
 "cells": [
  {
   "cell_type": "code",
   "execution_count": 1,
   "metadata": {},
   "outputs": [],
   "source": [
    "import json\n",
    "import datetime\n"
   ]
  },
  {
   "cell_type": "code",
   "execution_count": 5,
   "metadata": {},
   "outputs": [
    {
     "name": "stdout",
     "output_type": "stream",
     "text": [
      "Mode: json\n",
      "Loading models...\n",
      "FastText lang_detect model loaded\n",
      "Reading file names...\n",
      "Files count: 500000\n",
      "Parsing 500000 files...\n",
      "262698 documents saved\n",
      "std::bad_alloc\n"
     ]
    }
   ],
   "source": [
    "# у меня ноут не выдерживает эту ячеечку из юпитера, но ваш точно должен справиться. \n",
    "!../build/tgnews json ../data --lang_detect_model ../models/lang_detect.ftz --cat_detect_model ../models/cat_detect.ftz --news_detect_model ../models/news_detect.ftz --languages ru > parsed_docs_ru.json"
   ]
  },
  {
   "cell_type": "code",
   "execution_count": 3,
   "metadata": {},
   "outputs": [
    {
     "data": {
      "text/plain": [
       "{'date': '2019-11-20T09:17:00+00:00',\n",
       " 'description': 'В рамках федерального проекта «Формирование комфортной городской среды» национального проекта «Жилье и городская среда» в субъектах Северо-Западного и Сибирского федеральных округов в текущем году будет благоустроено 3857 объектов, работы еще продолжаются на 386 территориях и должны быть завершены до конца года. Об этом сообщил Максим Егоров, заместитель главы Минстроя России, на совещаниях, организованных полномочными представителями президента в федеральных округах 18 и 19 ноября.',\n",
       " 'site_name': 'Глас Народа',\n",
       " 'text': 'В рамках федерального проекта «Формирование комфортной городской среды» национального проекта «Жилье и городская среда» в субъектах Северо-Западного и Сибирского федеральных округов в текущем году будет благоустроено 3857 объектов, работы еще продолжаются на 386 территориях и должны быть завершены до конца года. Об этом сообщил Максим Егоров, заместитель главы Минстроя России, на совещаниях, организованных полномочными представителями президента в федеральных округах 18 и 19 ноября.\\n«Все запланированные на 2019 год работы необходимо выполнить до конца текущего года, в противном случае, регион должен будет вернуть средства, полученные из федерального бюджета. Даже если объект частично финансируется из регионального и муниципального бюджетов, переносить работы за счет этих денег на последующие периоды нельзя. Объект должен вводиться целиком», - подчеркнул Максим Егоров.\\nЗаместитель министра обратил особое внимание на контрактование объектов, победивших во Всероссийском конкурсе лучших проектов создания комфортной городской среды в малых городах и исторических поселениях. «Контракты на выполнение работ по всем проектам-победителям конкурса 2019 года должны быть заключены до 31 декабря. Субъекты, которые не выполнят свои обязательства – не будут допущены к участию в конкурсе следующего года», - добавил он.\\nНа совещании также было отмечено, что из всех субъектов Северо-Западного и Сибирского федеральных округов только в трех регионах – Республика Карелия, Республика Коми и Томская область, государственные программы по формированию комфортной городской среды соответствуют Правилам предоставления и распределения субсидий из федерального бюджета. Остальные субъекты должны доработать свои государственные программы и представить их в Минстрой России до конца текущего месяца.\\n',\n",
       " 'title': 'Минстрой России: Регионам СЗФО и СФО необходимо ускорить темпы завершения работ по благоустройству',\n",
       " 'url': 'https://glasnarod.ru/vlast/287869-minstroj-rossii-regionam-szfo-i-sfo-neobxodimo-uskorit-tempy-zaversheniya-rabot-po-blagoustrojstvu'}"
      ]
     },
     "execution_count": 3,
     "metadata": {},
     "output_type": "execute_result"
    }
   ],
   "source": [
    "with open(\"parsed_docs_ru.json\") as f:\n",
    "    articles = json.load(f)\n",
    "articles[0]"
   ]
  },
  {
   "cell_type": "code",
   "execution_count": 4,
   "metadata": {},
   "outputs": [],
   "source": [
    "for article in articles:\n",
    "\n",
    "    article_date = article[\"date\"][:-3] + article[\"date\"][-2:]\n",
    "    if article_date: # some of articles have no date\n",
    "        article_datetime = datetime.datetime.strptime(article_date, '%Y-%m-%dT%H:%M:%S%z')\n",
    "        article[\"ts\"] = article_datetime.timestamp()\n",
    "    else:\n",
    "        article[\"ts\"] = 0.0\n",
    "    \n",
    "    del article[\"date\"]\n"
   ]
  },
  {
   "cell_type": "code",
   "execution_count": 5,
   "metadata": {},
   "outputs": [],
   "source": [
    "articles = sorted(articles, key=lambda x: x[\"ts\"])"
   ]
  },
  {
   "cell_type": "code",
   "execution_count": 104,
   "metadata": {},
   "outputs": [],
   "source": [
    "from sklearn.feature_extraction.text import TfidfVectorizer as tf_idf_vectorizer\n",
    "\n",
    "TRAIN_SIZE = 0.8\n",
    "articles_train, articles_test = articles[:int(TRAIN_SIZE * len(articles))], articles[int(TRAIN_SIZE * len(articles)):]"
   ]
  },
  {
   "cell_type": "code",
   "execution_count": 105,
   "metadata": {},
   "outputs": [],
   "source": [
    "def get_title_text(x):\n",
    "    return x[\"title\"] + \" \" + x[\"text\"]\n",
    "\n",
    "tfidf = tf_idf_vectorizer(max_df=0.1, min_df=0.001)\n",
    "X = tfidf.fit_transform(map(get_title_text, articles_train))"
   ]
  },
  {
   "cell_type": "code",
   "execution_count": 106,
   "metadata": {},
   "outputs": [
    {
     "data": {
      "text/plain": [
       "(163169, 18942)"
      ]
     },
     "execution_count": 106,
     "metadata": {},
     "output_type": "execute_result"
    }
   ],
   "source": [
    "X.shape"
   ]
  },
  {
   "cell_type": "code",
   "execution_count": 107,
   "metadata": {},
   "outputs": [],
   "source": [
    "X_test = tfidf.transform(map(get_title_text, articles_test))"
   ]
  },
  {
   "cell_type": "code",
   "execution_count": 108,
   "metadata": {},
   "outputs": [
    {
     "data": {
      "text/plain": [
       "(40793, 18942)"
      ]
     },
     "execution_count": 108,
     "metadata": {},
     "output_type": "execute_result"
    }
   ],
   "source": [
    "X_test.shape"
   ]
  },
  {
   "cell_type": "code",
   "execution_count": 171,
   "metadata": {},
   "outputs": [
    {
     "data": {
      "text/plain": [
       "2329"
      ]
     },
     "execution_count": 171,
     "metadata": {},
     "output_type": "execute_result"
    }
   ],
   "source": [
    "from sklearn.cluster import DBSCAN\n",
    "clustering = DBSCAN(eps=0.7, min_samples=2).fit(X_test)\n",
    "len(set(clustering.labels_))"
   ]
  },
  {
   "cell_type": "code",
   "execution_count": 172,
   "metadata": {},
   "outputs": [],
   "source": [
    "for i in range(X_test.shape[0]):\n",
    "    articles_test[i][\"cluster\"] = clustering.labels_[i]\n"
   ]
  },
  {
   "cell_type": "code",
   "execution_count": 173,
   "metadata": {},
   "outputs": [
    {
     "data": {
      "text/plain": [
       "['Разумков об общении с Богданом: Бывают жесткие дискуссии',\n",
       " 'Разумков рассказал о \"жестких дискуссиях\" с Богданом',\n",
       " 'Разумков признался, что часто дискутирует с Богданом',\n",
       " '«Дискутируем мы»: Разумков рассказал о спорах с Богданом']"
      ]
     },
     "execution_count": 173,
     "metadata": {},
     "output_type": "execute_result"
    }
   ],
   "source": [
    "list(map(lambda x: x[\"title\"], list(filter(lambda x: x[\"cluster\"] == 0, articles_test))))"
   ]
  },
  {
   "cell_type": "code",
   "execution_count": null,
   "metadata": {},
   "outputs": [],
   "source": []
  },
  {
   "cell_type": "code",
   "execution_count": null,
   "metadata": {},
   "outputs": [],
   "source": []
  }
 ],
 "metadata": {
  "kernelspec": {
   "display_name": "Python 3",
   "language": "python",
   "name": "python3"
  },
  "language_info": {
   "codemirror_mode": {
    "name": "ipython",
    "version": 3
   },
   "file_extension": ".py",
   "mimetype": "text/x-python",
   "name": "python",
   "nbconvert_exporter": "python",
   "pygments_lexer": "ipython3",
   "version": "3.6.3"
  }
 },
 "nbformat": 4,
 "nbformat_minor": 2
}
