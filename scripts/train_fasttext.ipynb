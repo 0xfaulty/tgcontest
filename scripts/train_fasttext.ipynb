{
 "cells": [
  {
   "cell_type": "code",
   "execution_count": null,
   "metadata": {},
   "outputs": [],
   "source": [
    "import fasttext\n",
    "import json\n",
    "import tqdm"
   ]
  },
  {
   "cell_type": "code",
   "execution_count": null,
   "metadata": {},
   "outputs": [],
   "source": []
  },
  {
   "cell_type": "code",
   "execution_count": null,
   "metadata": {},
   "outputs": [],
   "source": [
    "%cd ..\n",
    "!mkdir pretrain"
   ]
  },
  {
   "cell_type": "code",
   "execution_count": null,
   "metadata": {},
   "outputs": [],
   "source": [
    "!./build/tgnews json data > pretrain/data_raw.json"
   ]
  },
  {
   "cell_type": "code",
   "execution_count": null,
   "metadata": {},
   "outputs": [],
   "source": []
  },
  {
   "cell_type": "code",
   "execution_count": null,
   "metadata": {},
   "outputs": [],
   "source": [
    "TRAIN_FILE = 'markup/ru_cat_markup.txt'\n",
    "TEST_FILE = 'markup/ru_cat_test_markup.txt'\n",
    "\n",
    "RAW_DATA_FILE = 'pretrain/data_raw.json'\n",
    "DATASET_FILE = 'pretrain/dataset.tsv'"
   ]
  },
  {
   "cell_type": "code",
   "execution_count": null,
   "metadata": {},
   "outputs": [],
   "source": [
    "with open(RAW_DATA_FILE, 'r') as f:\n",
    "    articles = json.load(f)\n",
    "    \n",
    "with open(DATASET_FILE, 'w') as out:\n",
    "    for article in tqdm.tqdm(articles):\n",
    "        title = article['title']\n",
    "        text = article['text'].replace('\\n', ' ').strip(' .!?')\n",
    "        out.write('{}. {}.\\n'.format(title, text))"
   ]
  },
  {
   "cell_type": "code",
   "execution_count": null,
   "metadata": {},
   "outputs": [],
   "source": []
  },
  {
   "cell_type": "markdown",
   "metadata": {},
   "source": [
    "params = {\n",
    "    'model': 'skipgram',\n",
    "    'dim': 64,\n",
    "    'minn': 0,\n",
    "    'maxn': 0,\n",
    "    'epoch': 1,\n",
    "    'verbose': 2,\n",
    "    'thread': 4\n",
    "}"
   ]
  },
  {
   "cell_type": "markdown",
   "metadata": {},
   "source": [
    "WORD_EMBEDDINGS_FILE = 'model_filename.bin'"
   ]
  },
  {
   "cell_type": "markdown",
   "metadata": {},
   "source": [
    "model = fasttext.train_unsupervised(DATASET_FILE, **params)\n",
    "model.save_model(WORD_EMBEDDINGS_FILE)"
   ]
  },
  {
   "cell_type": "code",
   "execution_count": null,
   "metadata": {},
   "outputs": [],
   "source": []
  },
  {
   "cell_type": "code",
   "execution_count": null,
   "metadata": {},
   "outputs": [],
   "source": [
    "supervised_params = {\n",
    "    'lr': 1.0,\n",
    "    'epoch': 100,\n",
    "    'minCount': 5,\n",
    "    'ws': 3,\n",
    "    'dim': 64\n",
    "}"
   ]
  },
  {
   "cell_type": "code",
   "execution_count": null,
   "metadata": {},
   "outputs": [],
   "source": [
    "supervised_model = fasttext.train_supervised(TRAIN_FILE, **supervised_params)\n",
    "print(supervised_model.test(TEST_FILE))\n",
    "print(json.dumps(supervised_model.test_label(TEST_FILE), indent=4))"
   ]
  },
  {
   "cell_type": "code",
   "execution_count": null,
   "metadata": {},
   "outputs": [],
   "source": []
  },
  {
   "cell_type": "code",
   "execution_count": null,
   "metadata": {},
   "outputs": [],
   "source": [
    "supervised_params_2 = supervised_params\n",
    "supervised_params_2.update({\n",
    "    'pretrainedVectors': 'pretrain/models/model_64_f15zQ.vec'\n",
    "})"
   ]
  },
  {
   "cell_type": "code",
   "execution_count": null,
   "metadata": {},
   "outputs": [],
   "source": [
    "supervised_model_2 = fasttext.train_supervised(TRAIN_FILE, **supervised_params_2)\n",
    "print(supervised_model_2.test(TEST_FILE))\n",
    "print(json.dumps(supervised_model_2.test_label(TEST_FILE), indent=4))"
   ]
  },
  {
   "cell_type": "code",
   "execution_count": null,
   "metadata": {},
   "outputs": [],
   "source": []
  },
  {
   "cell_type": "code",
   "execution_count": null,
   "metadata": {},
   "outputs": [],
   "source": []
  },
  {
   "cell_type": "code",
   "execution_count": null,
   "metadata": {},
   "outputs": [],
   "source": [
    "m = fasttext.load_model('pretrain/models/model_64_f32zQ.bin')\n",
    "print('words', len(m.words))"
   ]
  },
  {
   "cell_type": "code",
   "execution_count": null,
   "metadata": {},
   "outputs": [],
   "source": []
  }
 ],
 "metadata": {
  "kernelspec": {
   "display_name": "Python 3",
   "language": "python",
   "name": "python3"
  },
  "language_info": {
   "codemirror_mode": {
    "name": "ipython",
    "version": 3
   },
   "file_extension": ".py",
   "mimetype": "text/x-python",
   "name": "python",
   "nbconvert_exporter": "python",
   "pygments_lexer": "ipython3",
   "version": "3.6.6"
  }
 },
 "nbformat": 4,
 "nbformat_minor": 2
}
