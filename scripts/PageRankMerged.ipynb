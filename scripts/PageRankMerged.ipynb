{
 "cells": [
  {
   "cell_type": "code",
   "execution_count": 2,
   "metadata": {},
   "outputs": [],
   "source": [
    "import sys\n",
    "import json\n",
    "from collections import defaultdict\n",
    "from url_normalize import url_normalize\n",
    "from urlparse import urlparse\n",
    "import numpy as np\n",
    "\n",
    "def norm_url(url):\n",
    "    url_n = url_normalize(url)\n",
    "    parsed = urlparse(url_n)\n",
    "    scheme = \"%s://\" % parsed.scheme\n",
    "    res = parsed.geturl().replace(scheme, '', 1)\n",
    "    host = parsed.netloc\n",
    "    if res.startswith('www.'):\n",
    "        res = res.replace('www.', '')\n",
    "        host = host.replace('www.', '')\n",
    "    return res, host\n",
    "\n",
    "count = defaultdict(int)\n",
    "\n",
    "# simple out_links that were parsed from json format on 1-3 archives \n",
    "data_files = [json.load(open('../pr_data/out_link_ru.json')), json.load(open('../pr_data/out_link_en.json'))]\n",
    "\n",
    "url_set = set()\n",
    "host_set = set()\n",
    "\n",
    "host_to_host = defaultdict(lambda: defaultdict(int))\n",
    "for data in data_files:\n",
    "    for row in data:\n",
    "        url = row['url']\n",
    "        url_n, url_host = norm(url)\n",
    "        url_set.add(url_n)\n",
    "        host_set.add(url_host)"
   ]
  },
  {
   "cell_type": "code",
   "execution_count": 3,
   "metadata": {},
   "outputs": [],
   "source": [
    "for data in data_files:\n",
    "    for row in data:\n",
    "        url = row['url']\n",
    "        url_n, url_host = norm_url(url)\n",
    "        for link in row['out_links']:\n",
    "            link_n, link_host = norm_url(link)\n",
    "\n",
    "            if url_host != link_host and link_n in url_set:\n",
    "                count[link] += 1\n",
    "            if url_host != link_host and link_host in host_set:\n",
    "                host_to_host[url_host][link_host] += 1\n",
    "\n",
    "size = 0\n",
    "h2i = {}\n",
    "i2h = {}\n",
    "for host in host_to_host:\n",
    "    h2i[host] = size\n",
    "    i2h[size] = host\n",
    "    size += 1"
   ]
  },
  {
   "cell_type": "code",
   "execution_count": 4,
   "metadata": {},
   "outputs": [],
   "source": [
    "E = np.ones((size,size))\n",
    "E = E / np.sum(E, axis=1, keepdims=True)"
   ]
  },
  {
   "cell_type": "code",
   "execution_count": 5,
   "metadata": {},
   "outputs": [],
   "source": [
    "matrix = np.zeros((size,size))\n",
    "\n",
    "for host in host_to_host:\n",
    "    for link_host in host_to_host[host]:\n",
    "        if link_host in h2i:\n",
    "            matrix[h2i[host]][h2i[link_host]] = host_to_host[host][link_host]"
   ]
  },
  {
   "cell_type": "code",
   "execution_count": 6,
   "metadata": {},
   "outputs": [],
   "source": [
    "for i in xrange(0,size):\n",
    "    if np.sum(matrix[i]) == 0:\n",
    "        matrix[i] = np.ones(size)"
   ]
  },
  {
   "cell_type": "code",
   "execution_count": 7,
   "metadata": {},
   "outputs": [],
   "source": [
    "matrix = matrix / np.sum(matrix, axis=1, keepdims=True)\n",
    "matrix = 0.7 * matrix + 0.3 * E"
   ]
  },
  {
   "cell_type": "code",
   "execution_count": 8,
   "metadata": {},
   "outputs": [],
   "source": [
    "x = np.ones((1,size))\n",
    "x = x / np.sum(x, axis=1, keepdims=True)"
   ]
  },
  {
   "cell_type": "code",
   "execution_count": 9,
   "metadata": {},
   "outputs": [],
   "source": [
    "y = np.dot(x, np.linalg.matrix_power(matrix,20))"
   ]
  },
  {
   "cell_type": "code",
   "execution_count": 10,
   "metadata": {},
   "outputs": [],
   "source": [
    "rating = []\n",
    "for i in xrange(0,size):\n",
    "    rating.append((i, y[0][i], i2h[i]))\n",
    "rating = sorted(rating, key=lambda x:-x[1])"
   ]
  },
  {
   "cell_type": "code",
   "execution_count": null,
   "metadata": {},
   "outputs": [],
   "source": [
    "for i, pr, host in rating:\n",
    "    print(pr, host)"
   ]
  },
  {
   "cell_type": "code",
   "execution_count": 12,
   "metadata": {},
   "outputs": [],
   "source": [
    "out = open('../ratings/rating_merged.txt', 'w')\n",
    "for i, pr, host in rating:\n",
    "    out.write('%f\\t%s\\n' % (pr, host))"
   ]
  }
 ],
 "metadata": {
  "kernelspec": {
   "display_name": "Python 2",
   "language": "python",
   "name": "python2"
  },
  "language_info": {
   "codemirror_mode": {
    "name": "ipython",
    "version": 2
   },
   "file_extension": ".py",
   "mimetype": "text/x-python",
   "name": "python",
   "nbconvert_exporter": "python",
   "pygments_lexer": "ipython2",
   "version": "2.7.14"
  }
 },
 "nbformat": 4,
 "nbformat_minor": 2
}
